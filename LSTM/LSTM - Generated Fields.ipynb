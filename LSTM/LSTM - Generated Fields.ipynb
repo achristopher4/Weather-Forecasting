{
 "cells": [
  {
   "cell_type": "code",
   "execution_count": 215,
   "id": "55a8668f",
   "metadata": {},
   "outputs": [],
   "source": [
    "df = pd.read_csv(\"df_subset.csv\")"
   ]
  },
  {
   "cell_type": "code",
   "execution_count": 216,
   "id": "ea7b3f98",
   "metadata": {},
   "outputs": [],
   "source": [
    "df = df[df.columns.drop(list(df.filter(regex='Unnamed')))]"
   ]
  },
  {
   "cell_type": "code",
   "execution_count": 223,
   "id": "4dbece51",
   "metadata": {},
   "outputs": [],
   "source": [
    "df[\"wind_speed\"] = np.sqrt(df[\"u\"]**2 + df[\"v\"]**2)\n",
    "df[\"wind_dir\"] = np.sqrt(df[\"u\"]**2 + df[\"v\"]**2)"
   ]
  },
  {
   "cell_type": "code",
   "execution_count": 229,
   "id": "327c8935",
   "metadata": {},
   "outputs": [],
   "source": [
    "df_subset = df[df[\"lat\"] == -87.1875]\n",
    "df_subset = df_subset[df_subset[\"lon\"] == 0]\n",
    "df_subset = df_subset[df_subset[\"level\"] == 1000]\n",
    "df_subset[\"time\"] = pd.to_datetime(df_subset[\"time\"])\n",
    "df_subset = df_subset.drop(columns=[\"lat\", \"lon\", \"level\"])\n",
    "\n",
    "test_real = df_subset[df_subset[\"time\"] >= \"2018-01-31\"]\n",
    "val_real = df_subset[(df_subset[\"time\"] >= \"2018-01-30\") & (df_subset[\"time\"] < \"2018-01-31\")]\n",
    "train_real = df_subset[df_subset[\"time\"] < \"2018-01-29\"]\n",
    "\n",
    "train_time = train_real.pop(\"time\")\n",
    "val_time = val_real.pop(\"time\")\n",
    "test_time = test_real.pop(\"time\")\n",
    "\n",
    "#scaler = MinMaxScaler(feature_range=(0, 1))\n",
    "#scaled = scaler.fit_transform(df_subset.drop(columns=[\"time\", \"t\"]))\n",
    "\n",
    "train_y_real = train_real.pop(\"t\")\n",
    "val_y_real = val_real.pop(\"t\")\n",
    "test_y_real = test_real.pop(\"t\")\n",
    "\n",
    "train_real = scaler.fit_transform(train_real)\n",
    "val_real = scaler.fit_transform(val_real)\n",
    "test_real = scaler.fit_transform(test_real)\n",
    "\n",
    "train_y_real = train_y_real.to_numpy()\n",
    "val_y_real = val_y_real.to_numpy()\n",
    "test_y_real = test_y_real.to_numpy()\n",
    "\n",
    "train_real = train_real.reshape((train_real.shape[0], 1, train_real.shape[1]))\n",
    "val_real = val_real.reshape((val_real.shape[0], 1, val_real.shape[1]))\n",
    "test_real = test_real.reshape((test_real.shape[0], 1, test_real.shape[1]))"
   ]
  },
  {
   "cell_type": "code",
   "execution_count": 230,
   "id": "fb94764d",
   "metadata": {},
   "outputs": [],
   "source": [
    "from keras.callbacks import EarlyStopping\n",
    "early_stopping = EarlyStopping(monitor=\"val_loss\", patience=5, min_delta=0.0003, restore_best_weights=True)"
   ]
  },
  {
   "cell_type": "code",
   "execution_count": 231,
   "id": "96cc7d92",
   "metadata": {},
   "outputs": [
    {
     "name": "stdout",
     "output_type": "stream",
     "text": [
      "Epoch 1/500\n",
      "10/10 - 2s - loss: 69629.7266 - val_loss: 65262.6992 - 2s/epoch - 181ms/step\n",
      "Epoch 2/500\n",
      "10/10 - 0s - loss: 67956.2344 - val_loss: 62922.8633 - 101ms/epoch - 10ms/step\n",
      "Epoch 3/500\n",
      "10/10 - 0s - loss: 65323.6484 - val_loss: 59944.5664 - 95ms/epoch - 9ms/step\n",
      "Epoch 4/500\n",
      "10/10 - 0s - loss: 62241.7812 - val_loss: 56942.2812 - 98ms/epoch - 10ms/step\n",
      "Epoch 5/500\n",
      "10/10 - 0s - loss: 59237.6484 - val_loss: 54216.8438 - 87ms/epoch - 9ms/step\n",
      "Epoch 6/500\n",
      "10/10 - 0s - loss: 56511.6719 - val_loss: 51761.0195 - 75ms/epoch - 7ms/step\n",
      "Epoch 7/500\n",
      "10/10 - 0s - loss: 54039.6328 - val_loss: 49506.5938 - 78ms/epoch - 8ms/step\n",
      "Epoch 8/500\n",
      "10/10 - 0s - loss: 51761.4414 - val_loss: 47406.6133 - 98ms/epoch - 10ms/step\n",
      "Epoch 9/500\n",
      "10/10 - 0s - loss: 49634.2500 - val_loss: 45431.8555 - 81ms/epoch - 8ms/step\n",
      "Epoch 10/500\n",
      "10/10 - 0s - loss: 47630.0430 - val_loss: 43562.5430 - 81ms/epoch - 8ms/step\n",
      "Epoch 11/500\n",
      "10/10 - 0s - loss: 45729.6680 - val_loss: 41784.4805 - 80ms/epoch - 8ms/step\n",
      "Epoch 12/500\n",
      "10/10 - 0s - loss: 43919.4375 - val_loss: 40087.1250 - 76ms/epoch - 8ms/step\n",
      "Epoch 13/500\n",
      "10/10 - 0s - loss: 42189.2188 - val_loss: 38462.4336 - 72ms/epoch - 7ms/step\n",
      "Epoch 14/500\n",
      "10/10 - 0s - loss: 40531.2852 - val_loss: 36904.1328 - 73ms/epoch - 7ms/step\n",
      "Epoch 15/500\n",
      "10/10 - 0s - loss: 38939.5664 - val_loss: 35407.1836 - 78ms/epoch - 8ms/step\n",
      "Epoch 16/500\n",
      "10/10 - 0s - loss: 37409.2070 - val_loss: 33967.5039 - 72ms/epoch - 7ms/step\n",
      "Epoch 17/500\n",
      "10/10 - 0s - loss: 35936.1992 - val_loss: 32581.6504 - 82ms/epoch - 8ms/step\n",
      "Epoch 18/500\n",
      "10/10 - 0s - loss: 34517.1797 - val_loss: 31246.7207 - 81ms/epoch - 8ms/step\n",
      "Epoch 19/500\n",
      "10/10 - 0s - loss: 33149.2969 - val_loss: 29960.2031 - 77ms/epoch - 8ms/step\n",
      "Epoch 20/500\n",
      "10/10 - 0s - loss: 31830.0586 - val_loss: 28719.8906 - 76ms/epoch - 8ms/step\n",
      "Epoch 21/500\n",
      "10/10 - 0s - loss: 30557.2773 - val_loss: 27523.8184 - 78ms/epoch - 8ms/step\n",
      "Epoch 22/500\n",
      "10/10 - 0s - loss: 29329.0098 - val_loss: 26370.2246 - 74ms/epoch - 7ms/step\n",
      "Epoch 23/500\n",
      "10/10 - 0s - loss: 28143.4961 - val_loss: 25257.5078 - 74ms/epoch - 7ms/step\n",
      "Epoch 24/500\n",
      "10/10 - 0s - loss: 26999.1406 - val_loss: 24184.1934 - 77ms/epoch - 8ms/step\n",
      "Epoch 25/500\n",
      "10/10 - 0s - loss: 25894.4648 - val_loss: 23148.9141 - 74ms/epoch - 7ms/step\n",
      "Epoch 26/500\n",
      "10/10 - 0s - loss: 24828.1152 - val_loss: 22150.4004 - 73ms/epoch - 7ms/step\n",
      "Epoch 27/500\n",
      "10/10 - 0s - loss: 23798.8223 - val_loss: 21187.4629 - 79ms/epoch - 8ms/step\n",
      "Epoch 28/500\n",
      "10/10 - 0s - loss: 22805.3887 - val_loss: 20258.9727 - 81ms/epoch - 8ms/step\n",
      "Epoch 29/500\n",
      "10/10 - 0s - loss: 21846.6836 - val_loss: 19363.8574 - 75ms/epoch - 7ms/step\n",
      "Epoch 30/500\n",
      "10/10 - 0s - loss: 20921.6465 - val_loss: 18501.0977 - 83ms/epoch - 8ms/step\n",
      "Epoch 31/500\n",
      "10/10 - 0s - loss: 20029.2539 - val_loss: 17669.7227 - 75ms/epoch - 7ms/step\n",
      "Epoch 32/500\n",
      "10/10 - 0s - loss: 19168.5273 - val_loss: 16868.7949 - 73ms/epoch - 7ms/step\n",
      "Epoch 33/500\n",
      "10/10 - 0s - loss: 18338.5391 - val_loss: 16097.4111 - 80ms/epoch - 8ms/step\n",
      "Epoch 34/500\n",
      "10/10 - 0s - loss: 17538.3789 - val_loss: 15354.7021 - 80ms/epoch - 8ms/step\n",
      "Epoch 35/500\n",
      "10/10 - 0s - loss: 16767.1797 - val_loss: 14639.8242 - 75ms/epoch - 7ms/step\n",
      "Epoch 36/500\n",
      "10/10 - 0s - loss: 16024.1025 - val_loss: 13951.9639 - 77ms/epoch - 8ms/step\n",
      "Epoch 37/500\n",
      "10/10 - 0s - loss: 15308.3291 - val_loss: 13290.3281 - 77ms/epoch - 8ms/step\n",
      "Epoch 38/500\n",
      "10/10 - 0s - loss: 14619.0625 - val_loss: 12654.1367 - 78ms/epoch - 8ms/step\n",
      "Epoch 39/500\n",
      "10/10 - 0s - loss: 13955.5391 - val_loss: 12042.6514 - 78ms/epoch - 8ms/step\n",
      "Epoch 40/500\n",
      "10/10 - 0s - loss: 13317.0049 - val_loss: 11455.1260 - 74ms/epoch - 7ms/step\n",
      "Epoch 41/500\n",
      "10/10 - 0s - loss: 12702.7266 - val_loss: 10890.8594 - 76ms/epoch - 8ms/step\n",
      "Epoch 42/500\n",
      "10/10 - 0s - loss: 12111.9922 - val_loss: 10349.1436 - 74ms/epoch - 7ms/step\n",
      "Epoch 43/500\n",
      "10/10 - 0s - loss: 11544.1045 - val_loss: 9829.2998 - 77ms/epoch - 8ms/step\n",
      "Epoch 44/500\n",
      "10/10 - 0s - loss: 10998.3828 - val_loss: 9330.6602 - 72ms/epoch - 7ms/step\n",
      "Epoch 45/500\n",
      "10/10 - 0s - loss: 10474.1592 - val_loss: 8852.5723 - 74ms/epoch - 7ms/step\n",
      "Epoch 46/500\n",
      "10/10 - 0s - loss: 9970.7832 - val_loss: 8394.3975 - 75ms/epoch - 7ms/step\n",
      "Epoch 47/500\n",
      "10/10 - 0s - loss: 9487.6162 - val_loss: 7955.5093 - 73ms/epoch - 7ms/step\n",
      "Epoch 48/500\n",
      "10/10 - 0s - loss: 9024.0361 - val_loss: 7535.2983 - 75ms/epoch - 7ms/step\n",
      "Epoch 49/500\n",
      "10/10 - 0s - loss: 8579.4326 - val_loss: 7133.1616 - 74ms/epoch - 7ms/step\n",
      "Epoch 50/500\n",
      "10/10 - 0s - loss: 8153.2056 - val_loss: 6748.5181 - 73ms/epoch - 7ms/step\n",
      "Epoch 51/500\n",
      "10/10 - 0s - loss: 7744.7710 - val_loss: 6380.7891 - 73ms/epoch - 7ms/step\n",
      "Epoch 52/500\n",
      "10/10 - 0s - loss: 7353.5552 - val_loss: 6029.4126 - 73ms/epoch - 7ms/step\n",
      "Epoch 53/500\n",
      "10/10 - 0s - loss: 6978.9990 - val_loss: 5693.8423 - 75ms/epoch - 7ms/step\n",
      "Epoch 54/500\n",
      "10/10 - 0s - loss: 6620.5537 - val_loss: 5373.5337 - 76ms/epoch - 8ms/step\n",
      "Epoch 55/500\n",
      "10/10 - 0s - loss: 6277.6787 - val_loss: 5067.9648 - 74ms/epoch - 7ms/step\n",
      "Epoch 56/500\n",
      "10/10 - 0s - loss: 5949.8525 - val_loss: 4776.6191 - 77ms/epoch - 8ms/step\n",
      "Epoch 57/500\n",
      "10/10 - 0s - loss: 5636.5571 - val_loss: 4498.9932 - 70ms/epoch - 7ms/step\n",
      "Epoch 58/500\n",
      "10/10 - 0s - loss: 5337.2930 - val_loss: 4234.5933 - 70ms/epoch - 7ms/step\n",
      "Epoch 59/500\n",
      "10/10 - 0s - loss: 5051.5659 - val_loss: 3982.9377 - 74ms/epoch - 7ms/step\n",
      "Epoch 60/500\n",
      "10/10 - 0s - loss: 4778.8970 - val_loss: 3743.5559 - 74ms/epoch - 7ms/step\n",
      "Epoch 61/500\n",
      "10/10 - 0s - loss: 4518.8164 - val_loss: 3515.9922 - 73ms/epoch - 7ms/step\n",
      "Epoch 62/500\n",
      "10/10 - 0s - loss: 4270.8647 - val_loss: 3299.7917 - 71ms/epoch - 7ms/step\n",
      "Epoch 63/500\n",
      "10/10 - 0s - loss: 4034.5957 - val_loss: 3094.5234 - 72ms/epoch - 7ms/step\n",
      "Epoch 64/500\n",
      "10/10 - 0s - loss: 3809.5715 - val_loss: 2899.7578 - 73ms/epoch - 7ms/step\n",
      "Epoch 65/500\n",
      "10/10 - 0s - loss: 3595.3672 - val_loss: 2715.0808 - 72ms/epoch - 7ms/step\n",
      "Epoch 66/500\n",
      "10/10 - 0s - loss: 3391.5674 - val_loss: 2540.0857 - 74ms/epoch - 7ms/step\n",
      "Epoch 67/500\n",
      "10/10 - 0s - loss: 3197.7683 - val_loss: 2374.3784 - 73ms/epoch - 7ms/step\n",
      "Epoch 68/500\n",
      "10/10 - 0s - loss: 3013.5750 - val_loss: 2217.5771 - 74ms/epoch - 7ms/step\n",
      "Epoch 69/500\n",
      "10/10 - 0s - loss: 2838.6038 - val_loss: 2069.3096 - 79ms/epoch - 8ms/step\n",
      "Epoch 70/500\n",
      "10/10 - 0s - loss: 2672.4832 - val_loss: 1929.2106 - 78ms/epoch - 8ms/step\n",
      "Epoch 71/500\n",
      "10/10 - 0s - loss: 2514.8489 - val_loss: 1796.9288 - 78ms/epoch - 8ms/step\n",
      "Epoch 72/500\n",
      "10/10 - 0s - loss: 2365.3494 - val_loss: 1672.1224 - 70ms/epoch - 7ms/step\n",
      "Epoch 73/500\n",
      "10/10 - 0s - loss: 2223.6423 - val_loss: 1554.4613 - 74ms/epoch - 7ms/step\n",
      "Epoch 74/500\n",
      "10/10 - 0s - loss: 2089.3958 - val_loss: 1443.6216 - 82ms/epoch - 8ms/step\n",
      "Epoch 75/500\n",
      "10/10 - 0s - loss: 1962.2870 - val_loss: 1339.2925 - 74ms/epoch - 7ms/step\n",
      "Epoch 76/500\n",
      "10/10 - 0s - loss: 1842.0039 - val_loss: 1241.1732 - 71ms/epoch - 7ms/step\n",
      "Epoch 77/500\n",
      "10/10 - 0s - loss: 1728.2443 - val_loss: 1148.9717 - 72ms/epoch - 7ms/step\n",
      "Epoch 78/500\n",
      "10/10 - 0s - loss: 1620.7155 - val_loss: 1062.4058 - 72ms/epoch - 7ms/step\n",
      "Epoch 79/500\n",
      "10/10 - 0s - loss: 1519.1343 - val_loss: 981.2026 - 72ms/epoch - 7ms/step\n",
      "Epoch 80/500\n",
      "10/10 - 0s - loss: 1423.2260 - val_loss: 905.0988 - 72ms/epoch - 7ms/step\n",
      "Epoch 81/500\n",
      "10/10 - 0s - loss: 1332.7268 - val_loss: 833.8418 - 71ms/epoch - 7ms/step\n",
      "Epoch 82/500\n",
      "10/10 - 0s - loss: 1247.3811 - val_loss: 767.1843 - 73ms/epoch - 7ms/step\n",
      "Epoch 83/500\n",
      "10/10 - 0s - loss: 1166.9418 - val_loss: 704.8928 - 76ms/epoch - 8ms/step\n",
      "Epoch 84/500\n",
      "10/10 - 0s - loss: 1091.1719 - val_loss: 646.7388 - 70ms/epoch - 7ms/step\n",
      "Epoch 85/500\n",
      "10/10 - 0s - loss: 1019.8423 - val_loss: 592.5053 - 73ms/epoch - 7ms/step\n",
      "Epoch 86/500\n",
      "10/10 - 0s - loss: 952.7321 - val_loss: 541.9807 - 75ms/epoch - 7ms/step\n",
      "Epoch 87/500\n",
      "10/10 - 0s - loss: 889.6300 - val_loss: 494.9658 - 76ms/epoch - 8ms/step\n",
      "Epoch 88/500\n",
      "10/10 - 0s - loss: 830.3318 - val_loss: 451.2652 - 74ms/epoch - 7ms/step\n",
      "Epoch 89/500\n",
      "10/10 - 0s - loss: 774.6415 - val_loss: 410.6947 - 70ms/epoch - 7ms/step\n",
      "Epoch 90/500\n",
      "10/10 - 0s - loss: 722.3713 - val_loss: 373.0767 - 70ms/epoch - 7ms/step\n",
      "Epoch 91/500\n",
      "10/10 - 0s - loss: 673.3407 - val_loss: 338.2405 - 72ms/epoch - 7ms/step\n",
      "Epoch 92/500\n",
      "10/10 - 0s - loss: 627.3770 - val_loss: 306.0232 - 78ms/epoch - 8ms/step\n",
      "Epoch 93/500\n",
      "10/10 - 0s - loss: 584.3143 - val_loss: 276.2707 - 76ms/epoch - 8ms/step\n"
     ]
    },
    {
     "name": "stdout",
     "output_type": "stream",
     "text": [
      "Epoch 94/500\n",
      "10/10 - 0s - loss: 543.9943 - val_loss: 248.8335 - 73ms/epoch - 7ms/step\n",
      "Epoch 95/500\n",
      "10/10 - 0s - loss: 506.2649 - val_loss: 223.5711 - 72ms/epoch - 7ms/step\n",
      "Epoch 96/500\n",
      "10/10 - 0s - loss: 470.9824 - val_loss: 200.3473 - 75ms/epoch - 7ms/step\n",
      "Epoch 97/500\n",
      "10/10 - 0s - loss: 438.0077 - val_loss: 179.0349 - 71ms/epoch - 7ms/step\n",
      "Epoch 98/500\n",
      "10/10 - 0s - loss: 407.2091 - val_loss: 159.5106 - 71ms/epoch - 7ms/step\n",
      "Epoch 99/500\n",
      "10/10 - 0s - loss: 378.4606 - val_loss: 141.6593 - 69ms/epoch - 7ms/step\n",
      "Epoch 100/500\n",
      "10/10 - 0s - loss: 351.6425 - val_loss: 125.3697 - 73ms/epoch - 7ms/step\n",
      "Epoch 101/500\n",
      "10/10 - 0s - loss: 326.6405 - val_loss: 110.5379 - 73ms/epoch - 7ms/step\n",
      "Epoch 102/500\n",
      "10/10 - 0s - loss: 303.3464 - val_loss: 97.0644 - 71ms/epoch - 7ms/step\n",
      "Epoch 103/500\n",
      "10/10 - 0s - loss: 281.6569 - val_loss: 84.8549 - 70ms/epoch - 7ms/step\n",
      "Epoch 104/500\n",
      "10/10 - 0s - loss: 261.4738 - val_loss: 73.8208 - 73ms/epoch - 7ms/step\n",
      "Epoch 105/500\n",
      "10/10 - 0s - loss: 242.7043 - val_loss: 63.8779 - 71ms/epoch - 7ms/step\n",
      "Epoch 106/500\n",
      "10/10 - 0s - loss: 225.2604 - val_loss: 54.9474 - 70ms/epoch - 7ms/step\n",
      "Epoch 107/500\n",
      "10/10 - 0s - loss: 209.0584 - val_loss: 46.9537 - 71ms/epoch - 7ms/step\n",
      "Epoch 108/500\n",
      "10/10 - 0s - loss: 194.0195 - val_loss: 39.8268 - 69ms/epoch - 7ms/step\n",
      "Epoch 109/500\n",
      "10/10 - 0s - loss: 180.0686 - val_loss: 33.5001 - 72ms/epoch - 7ms/step\n",
      "Epoch 110/500\n",
      "10/10 - 0s - loss: 167.1351 - val_loss: 27.9110 - 74ms/epoch - 7ms/step\n",
      "Epoch 111/500\n",
      "10/10 - 0s - loss: 155.1522 - val_loss: 23.0011 - 71ms/epoch - 7ms/step\n",
      "Epoch 112/500\n",
      "10/10 - 0s - loss: 144.0573 - val_loss: 18.7152 - 70ms/epoch - 7ms/step\n",
      "Epoch 113/500\n",
      "10/10 - 0s - loss: 133.7904 - val_loss: 15.0017 - 72ms/epoch - 7ms/step\n",
      "Epoch 114/500\n",
      "10/10 - 0s - loss: 124.2957 - val_loss: 11.8124 - 73ms/epoch - 7ms/step\n",
      "Epoch 115/500\n",
      "10/10 - 0s - loss: 115.5208 - val_loss: 9.1021 - 71ms/epoch - 7ms/step\n",
      "Epoch 116/500\n",
      "10/10 - 0s - loss: 107.4158 - val_loss: 6.8286 - 74ms/epoch - 7ms/step\n",
      "Epoch 117/500\n",
      "10/10 - 0s - loss: 99.9343 - val_loss: 4.9526 - 72ms/epoch - 7ms/step\n",
      "Epoch 118/500\n",
      "10/10 - 0s - loss: 93.0325 - val_loss: 3.4373 - 69ms/epoch - 7ms/step\n",
      "Epoch 119/500\n",
      "10/10 - 0s - loss: 86.6693 - val_loss: 2.2486 - 71ms/epoch - 7ms/step\n",
      "Epoch 120/500\n",
      "10/10 - 0s - loss: 80.8062 - val_loss: 1.3548 - 77ms/epoch - 8ms/step\n",
      "Epoch 121/500\n",
      "10/10 - 0s - loss: 75.4071 - val_loss: 0.7264 - 74ms/epoch - 7ms/step\n",
      "Epoch 122/500\n",
      "10/10 - 0s - loss: 70.4383 - val_loss: 0.3363 - 71ms/epoch - 7ms/step\n",
      "Epoch 123/500\n",
      "10/10 - 0s - loss: 65.8681 - val_loss: 0.1590 - 79ms/epoch - 8ms/step\n",
      "Epoch 124/500\n",
      "10/10 - 0s - loss: 61.6672 - val_loss: 0.1713 - 68ms/epoch - 7ms/step\n",
      "Epoch 125/500\n",
      "10/10 - 0s - loss: 57.8077 - val_loss: 0.3516 - 73ms/epoch - 7ms/step\n",
      "Epoch 126/500\n",
      "10/10 - 0s - loss: 54.2641 - val_loss: 0.6801 - 69ms/epoch - 7ms/step\n",
      "Epoch 127/500\n",
      "10/10 - 0s - loss: 51.0124 - val_loss: 1.1385 - 70ms/epoch - 7ms/step\n",
      "Epoch 128/500\n",
      "10/10 - 0s - loss: 48.0302 - val_loss: 1.7101 - 71ms/epoch - 7ms/step\n"
     ]
    },
    {
     "data": {
      "image/png": "[encoded data removed]",
      "text/plain": [
       "<Figure size 432x288 with 1 Axes>"
      ]
     },
     "metadata": {
      "needs_background": "light"
     },
     "output_type": "display_data"
    }
   ],
   "source": [
    "import tensorflow as tf\n",
    "from tensorflow import keras\n",
    "from keras import layers\n",
    "from keras import models\n",
    "from keras.layers import LSTM, Dense\n",
    "import matplotlib\n",
    "from matplotlib import pyplot as plt\n",
    "\n",
    "# design network\n",
    "model = tf.keras.models.Sequential()\n",
    "model.add(LSTM(50, input_shape=(train_real.shape[1], train_real.shape[2])))\n",
    "model.add(Dense(1))\n",
    "model.compile(loss='mse', optimizer=tf.keras.optimizers.Adam(learning_rate=0.01))\n",
    "# fit network\n",
    "history = model.fit(train_real, train_y_real, epochs=500, batch_size=72, validation_data=(val_real, val_y_real), verbose=2, shuffle=False, callbacks=[early_stopping])\n",
    "# plot history\n",
    "plt.plot(history.history['loss'], label='train')\n",
    "plt.plot(history.history['val_loss'], label='test')\n",
    "plt.legend()\n",
    "plt.show()"
   ]
  },
  {
   "cell_type": "code",
   "execution_count": 232,
   "id": "a5289cfc",
   "metadata": {},
   "outputs": [],
   "source": [
    "scaler = MinMaxScaler(feature_range=(0, 1))\n",
    "scaled = scaler.fit_transform(df_subset.drop(columns=[\"time\", \"t\"]))"
   ]
  },
  {
   "cell_type": "code",
   "execution_count": 233,
   "id": "a81ddf6a",
   "metadata": {},
   "outputs": [
    {
     "name": "stdout",
     "output_type": "stream",
     "text": [
      "1/1 [==============================] - 0s 300ms/step\n"
     ]
    },
    {
     "data": {
      "text/plain": [
       "0.4300881869845937"
      ]
     },
     "execution_count": 233,
     "metadata": {},
     "output_type": "execute_result"
    }
   ],
   "source": [
    "from sklearn.preprocessing import MinMaxScaler\n",
    "from sklearn.preprocessing import LabelEncoder\n",
    "from sklearn.metrics import mean_squared_error\n",
    "from math import sqrt\n",
    "from numpy import concatenate\n",
    "\n",
    "# make a prediction\n",
    "yhat = model.predict(test_real)\n",
    "np.mean(abs(yhat - test_y_real))"
   ]
  },
  {
   "cell_type": "code",
   "execution_count": 212,
   "id": "ba9a0c85",
   "metadata": {},
   "outputs": [
    {
     "data": {
      "text/plain": [
       "0.4525643522135433"
      ]
     },
     "execution_count": 212,
     "metadata": {},
     "output_type": "execute_result"
    }
   ],
   "source": [
    "np.mean(abs(yhat - test_y_real))"
   ]
  },
  {
   "cell_type": "code",
   "execution_count": 213,
   "id": "531c441a",
   "metadata": {},
   "outputs": [
    {
     "data": {
      "text/plain": [
       "array([[257.81403],\n",
       "       [257.80063],\n",
       "       [257.79388],\n",
       "       [257.7721 ],\n",
       "       [257.75974],\n",
       "       [257.75473],\n",
       "       [257.7746 ],\n",
       "       [257.7943 ],\n",
       "       [257.81534],\n",
       "       [257.8223 ],\n",
       "       [257.821  ],\n",
       "       [257.82254],\n",
       "       [257.82407],\n",
       "       [257.82187],\n",
       "       [257.81134],\n",
       "       [257.79187],\n",
       "       [257.7784 ],\n",
       "       [257.77042],\n",
       "       [257.73114],\n",
       "       [257.71048],\n",
       "       [257.66495],\n",
       "       [257.5917 ],\n",
       "       [257.24823],\n",
       "       [256.9093 ]], dtype=float32)"
      ]
     },
     "execution_count": 213,
     "metadata": {},
     "output_type": "execute_result"
    }
   ],
   "source": [
    "yhat"
   ]
  },
  {
   "cell_type": "code",
   "execution_count": 214,
   "id": "fb81ac26",
   "metadata": {},
   "outputs": [
    {
     "data": {
      "text/plain": [
       "array([257.35516, 257.43393, 257.47446, 257.4317 , 257.31693, 257.18414,\n",
       "       257.06262, 256.9951 , 256.96133, 256.91183, 257.06262, 257.07837,\n",
       "       257.18863, 257.34393, 257.46994, 257.5307 , 257.5172 , 257.4677 ,\n",
       "       257.42493, 257.42044, 257.4587 , 257.51495, 257.39795, 257.3777 ])"
      ]
     },
     "execution_count": 214,
     "metadata": {},
     "output_type": "execute_result"
    }
   ],
   "source": [
    "test_y_real"
   ]
  }
 ],
 "metadata": {
  "kernelspec": {
   "display_name": "Python [conda env:tf_310]",
   "language": "python",
   "name": "conda-env-tf_310-py"
  },
  "language_info": {
   "codemirror_mode": {
    "name": "ipython",
    "version": 3
   },
   "file_extension": ".py",
   "mimetype": "text/x-python",
   "name": "python",
   "nbconvert_exporter": "python",
   "pygments_lexer": "ipython3",
   "version": "3.10.4"
  }
 },
 "nbformat": 4,
 "nbformat_minor": 5
}
